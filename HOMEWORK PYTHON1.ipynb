{
 "cells": [
  {
   "cell_type": "markdown",
   "metadata": {},
   "source": [
    "# Python"
   ]
  },
  {
   "cell_type": "code",
   "execution_count": 1,
   "metadata": {
    "collapsed": true
   },
   "outputs": [],
   "source": [
    "def fib(n):\n",
    "    if n==1 or n==2:\n",
    "        return 1\n",
    "    return fib(n-1) + fib(n-2)"
   ]
  },
  {
   "cell_type": "code",
   "execution_count": 5,
   "metadata": {
    "collapsed": false
   },
   "outputs": [
    {
     "name": "stdout",
     "output_type": "stream",
     "text": [
      "CPU times: user 60 µs, sys: 87 µs, total: 147 µs\n",
      "Wall time: 117 µs\n",
      "CPU times: user 4.14 ms, sys: 2.96 ms, total: 7.11 ms\n",
      "Wall time: 5.6 ms\n",
      "CPU times: user 272 ms, sys: 4.06 ms, total: 276 ms\n",
      "Wall time: 281 ms\n",
      "CPU times: user 426 ms, sys: 2.35 ms, total: 428 ms\n",
      "Wall time: 433 ms\n",
      "CPU times: user 705 ms, sys: 4.16 ms, total: 709 ms\n",
      "Wall time: 717 ms\n",
      "CPU times: user 1.13 s, sys: 6.55 ms, total: 1.14 s\n",
      "Wall time: 1.16 s\n",
      "CPU times: user 1.83 s, sys: 10.5 ms, total: 1.84 s\n",
      "Wall time: 1.86 s\n"
     ]
    },
    {
     "data": {
      "text/plain": [
       "5702887"
      ]
     },
     "execution_count": 5,
     "metadata": {},
     "output_type": "execute_result"
    }
   ],
   "source": [
    "%time fib(10)\n",
    "%time fib(20)\n",
    "%time fib(30)\n",
    "%time fib(31)\n",
    "%time fib(32)\n",
    "%time fib(33)\n",
    "%time fib(34)"
   ]
  },
  {
   "cell_type": "code",
   "execution_count": 6,
   "metadata": {
    "collapsed": true
   },
   "outputs": [],
   "source": [
    "from math import sqrt, atan\n",
    "\n",
    "def abs_arg(re, im):\n",
    "    return sqrt(re ** 2 + im ** 2) , atan(im / float(re))"
   ]
  },
  {
   "cell_type": "code",
   "execution_count": 10,
   "metadata": {
    "collapsed": false
   },
   "outputs": [
    {
     "name": "stdout",
     "output_type": "stream",
     "text": [
      "(5.656854249492381, 0.7853981633974483) <type 'tuple'>\n"
     ]
    }
   ],
   "source": [
    "x = abs_arg(4,4)\n",
    "print x, type(x)"
   ]
  },
  {
   "cell_type": "code",
   "execution_count": 11,
   "metadata": {
    "collapsed": true
   },
   "outputs": [],
   "source": [
    "class complex_number():\n",
    "    def __init__(self,x,y):\n",
    "        self.re = x\n",
    "        self.im = y\n",
    "        \n",
    "    def __add__(self, other):\n",
    "        return complex_number(self.re+other.re, self.im+other.im)\n",
    "    \n",
    "    def __lt__(self, other):\n",
    "        \"\"\"Module comparison\"\"\"\n",
    "        return (self.re ** 2 + self.im ** 2) < (other.re ** 2 + other.im ** 2) \n",
    "\n",
    "    def ___le__(self, other):\n",
    "        \"\"\"Module comparison\"\"\"\n",
    "        return (self.re ** 2 + self.im ** 2) <= (other.re ** 2 + other.im ** 2)\n",
    "\n",
    "    def __eq__(self, other):\n",
    "        return self.re == other.re and self.im == other.im\n",
    "\n",
    "    def __ne__(self, other):\n",
    "        return self.re != other.re or self.im != other.im\n",
    "\n",
    "    def __gt__(self, other):\n",
    "        \"\"\"Module comparison\"\"\"\n",
    "        return (self.re ** 2 + self.im ** 2) > (other.re ** 2 + other.im ** 2)\n",
    "\n",
    "    def __ge__(self, other):\n",
    "        \"\"\"Module comparison\"\"\"\n",
    "        return (self.re ** 2 + self.im ** 2) >= (other.re ** 2 + other.im ** 2)"
   ]
  },
  {
   "cell_type": "markdown",
   "metadata": {},
   "source": [
    "# Beautiful Soup"
   ]
  },
  {
   "cell_type": "code",
   "execution_count": 42,
   "metadata": {
    "collapsed": true
   },
   "outputs": [],
   "source": [
    "from bs4 import BeautifulSoup as bsoup\n",
    "import urllib"
   ]
  },
  {
   "cell_type": "code",
   "execution_count": 63,
   "metadata": {
    "collapsed": true
   },
   "outputs": [],
   "source": [
    "html_doc = urllib.urlopen(\"https://lenta.ru/news/2016/04/24/kadyrov/\").read()\n",
    "f = open(\"article.html\", 'w')\n",
    "f.write(html_doc)\n",
    "f.close()"
   ]
  },
  {
   "cell_type": "code",
   "execution_count": 64,
   "metadata": {
    "collapsed": false
   },
   "outputs": [],
   "source": [
    "soup = bsoup(html_doc, \"html.parser\")\n",
    "x = soup.get_text()"
   ]
  },
  {
   "cell_type": "code",
   "execution_count": 66,
   "metadata": {
    "collapsed": false
   },
   "outputs": [],
   "source": [
    "import re\n",
    "for tag in soup.find_all(\"p\", attrs={\"dir\": \"ltr\"}):\n",
    "    if tag.string != None:\n",
    "        print(tag.string)"
   ]
  },
  {
   "cell_type": "markdown",
   "metadata": {},
   "source": [
    "# NumPy"
   ]
  },
  {
   "cell_type": "code",
   "execution_count": 53,
   "metadata": {
    "collapsed": true
   },
   "outputs": [],
   "source": [
    "import numpy as np"
   ]
  },
  {
   "cell_type": "code",
   "execution_count": 87,
   "metadata": {
    "collapsed": false
   },
   "outputs": [
    {
     "name": "stdout",
     "output_type": "stream",
     "text": [
      "[[[ 0.  0.  0.  0.]\n",
      "  [ 0.  0.  0.  0.]\n",
      "  [ 0.  0.  0.  0.]\n",
      "  [ 0.  0.  0.  0.]]\n",
      "\n",
      " [[ 0.  0.  0.  0.]\n",
      "  [ 0.  0.  0.  0.]\n",
      "  [ 0.  0.  0.  0.]\n",
      "  [ 0.  0.  0.  0.]]\n",
      "\n",
      " [[ 0.  0.  0.  0.]\n",
      "  [ 0.  0.  0.  0.]\n",
      "  [ 0.  0.  0.  0.]\n",
      "  [ 0.  0.  0.  0.]]\n",
      "\n",
      " [[ 0.  0.  0.  0.]\n",
      "  [ 0.  0.  0.  0.]\n",
      "  [ 0.  0.  0.  0.]\n",
      "  [ 0.  0.  0.  0.]]]\n"
     ]
    }
   ],
   "source": [
    "x = np.ndarray(shape = (4,4,4))\n",
    "print x"
   ]
  },
  {
   "cell_type": "code",
   "execution_count": 88,
   "metadata": {
    "collapsed": true
   },
   "outputs": [],
   "source": [
    "a = np.ones(200)\n",
    "b = list(a)"
   ]
  },
  {
   "cell_type": "code",
   "execution_count": 89,
   "metadata": {
    "collapsed": false
   },
   "outputs": [
    {
     "name": "stdout",
     "output_type": "stream",
     "text": [
      "The slowest run took 4.85 times longer than the fastest. This could mean that an intermediate result is being cached \n",
      "100000 loops, best of 3: 8.65 µs per loop\n"
     ]
    }
   ],
   "source": [
    "%%timeit\n",
    "(a+4) ** 30"
   ]
  },
  {
   "cell_type": "code",
   "execution_count": 90,
   "metadata": {
    "collapsed": false
   },
   "outputs": [
    {
     "name": "stdout",
     "output_type": "stream",
     "text": [
      "10000 loops, best of 3: 123 µs per loop\n"
     ]
    }
   ],
   "source": [
    "%%timeit\n",
    "map(lambda x: (x+4) ** 30, b)"
   ]
  },
  {
   "cell_type": "code",
   "execution_count": 86,
   "metadata": {
    "collapsed": false
   },
   "outputs": [
    {
     "name": "stdout",
     "output_type": "stream",
     "text": [
      "[-5.0, -4.766666666666667, -4.533333333333333, -4.3, -4.066666666666666, -3.8333333333333335, -3.5999999999999996, -3.3666666666666667, -3.1333333333333333, -2.9, -2.666666666666667, -2.4333333333333336, -2.1999999999999997, -1.9666666666666668, -1.7333333333333334, -1.5, -1.2666666666666666, -1.0333333333333332, -0.7999999999999998, -0.5666666666666664, -0.3333333333333339, -0.10000000000000053, 0.13333333333333286, 0.36666666666666714, 0.6000000000000005, 0.8333333333333339, 1.0666666666666664, 1.2999999999999998, 1.5333333333333332, 1.7666666666666666]\n"
     ]
    }
   ],
   "source": [
    "def my_linspace(start, stop, num):\n",
    "    return [float(i)/num * (stop-start) + start for i in range(num)]\n",
    "print (my_linspace(-5, 2, 30))"
   ]
  },
  {
   "cell_type": "code",
   "execution_count": 84,
   "metadata": {
    "collapsed": false
   },
   "outputs": [
    {
     "name": "stdout",
     "output_type": "stream",
     "text": [
      "The slowest run took 17.27 times longer than the fastest. This could mean that an intermediate result is being cached \n",
      "1000 loops, best of 3: 167 µs per loop\n"
     ]
    }
   ],
   "source": [
    "%%timeit\n",
    "np.linspace(-1,1, 100000)"
   ]
  },
  {
   "cell_type": "code",
   "execution_count": 85,
   "metadata": {
    "collapsed": false
   },
   "outputs": [
    {
     "name": "stdout",
     "output_type": "stream",
     "text": [
      "10 loops, best of 3: 32.6 ms per loop\n"
     ]
    }
   ],
   "source": [
    "%%timeit\n",
    "my_linspace(-1,1, 100000)"
   ]
  },
  {
   "cell_type": "markdown",
   "metadata": {},
   "source": [
    "# Matplotlib"
   ]
  },
  {
   "cell_type": "code",
   "execution_count": 91,
   "metadata": {
    "collapsed": true
   },
   "outputs": [],
   "source": [
    "import matplotlib.pyplot as plt\n",
    "import math\n",
    "%matplotlib inline"
   ]
  },
  {
   "cell_type": "code",
   "execution_count": 95,
   "metadata": {
    "collapsed": false
   },
   "outputs": [
    {
     "data": {
      "image/png": "[encoded data removed]",
      "text/plain": [
       "<matplotlib.figure.Figure at 0x1067ae390>"
      ]
     },
     "metadata": {},
     "output_type": "display_data"
    }
   ],
   "source": [
    "x = np.linspace(-10,10,100)\n",
    "y = map(lambda p: math.cos(p), x)\n",
    "z = map(lambda p: math.sin(p), x)\n",
    "plt.plot(x, y, '.', label = 'cos')\n",
    "plt.plot(x, z, label = 'sin', color = 'red')\n",
    "plt.legend()\n",
    "plt.show()"
   ]
  },
  {
   "cell_type": "code",
   "execution_count": 105,
   "metadata": {
    "collapsed": true
   },
   "outputs": [],
   "source": [
    "a = np.linspace(0.1,10,200)\n",
    "exp = map(lambda x: math.exp(x), a)\n",
    "quadr = a ** 2\n",
    "qubic = a ** 3\n",
    "log = map(lambda x: math.log(x), a)"
   ]
  },
  {
   "cell_type": "code",
   "execution_count": 108,
   "metadata": {
    "collapsed": false
   },
   "outputs": [
    {
     "data": {
      "image/png": "[encoded data removed]",
      "text/plain": [
       "<matplotlib.figure.Figure at 0x10697be10>"
      ]
     },
     "metadata": {},
     "output_type": "display_data"
    }
   ],
   "source": [
    "fig = plt.figure()\n",
    "\n",
    "axis1 = fig.add_subplot(223)\n",
    "axis1.plot(a, exp)\n",
    "axis2 = fig.add_subplot(224)\n",
    "axis2.plot(a, log, 'r')\n",
    "axis3 = fig.add_subplot(221)\n",
    "axis3.plot(a, quadr, 'grey')\n",
    "axis4 = fig.add_subplot(222)\n",
    "axis4.plot(a, qubic, 'm')\n",
    "plt.tight_layout()\n",
    "fig = plt.gcf()"
   ]
  },
  {
   "cell_type": "code",
   "execution_count": 112,
   "metadata": {
    "collapsed": true
   },
   "outputs": [],
   "source": [
    "from mpl_toolkits.mplot3d import Axes3D\n",
    "from matplotlib import cm"
   ]
  },
  {
   "cell_type": "code",
   "execution_count": 164,
   "metadata": {
    "collapsed": false
   },
   "outputs": [
    {
     "data": {
      "text/plain": [
       "<matplotlib.collections.QuadMesh at 0x1124043d0>"
      ]
     },
     "execution_count": 164,
     "metadata": {},
     "output_type": "execute_result"
    },
    {
     "data": {
      "image/png": "[encoded data removed]",
      "text/plain": [
       "<matplotlib.figure.Figure at 0x117218e90>"
      ]
     },
     "metadata": {},
     "output_type": "display_data"
    }
   ],
   "source": [
    "x = np.linspace(20,21,100)\n",
    "y = x\n",
    "f = np.ndarray(shape = (100, 100))\n",
    "for i in range(100):\n",
    "    for j in range(100):\n",
    "        f[i][j] = 3 * x[i] * y[j] + x[i] - 2 * y[j]\n",
    "\n",
    "f_min, f_max = f.min(), f.max()\n",
    "plt.pcolormesh(x, y, f, cmap = cm.coolwarm, vmin = f_min, vmax = f_max)"
   ]
  },
  {
   "cell_type": "markdown",
   "metadata": {},
   "source": [
    "# SciPy"
   ]
  },
  {
   "cell_type": "code",
   "execution_count": 142,
   "metadata": {
    "collapsed": true
   },
   "outputs": [],
   "source": [
    "import numpy as np\n",
    "from matplotlib import pyplot as plt\n",
    "from scipy.optimize import minimize\n",
    "from scipy.signal import argrelextrema\n",
    "%matplotlib inline"
   ]
  },
  {
   "cell_type": "code",
   "execution_count": 159,
   "metadata": {
    "collapsed": false
   },
   "outputs": [],
   "source": [
    "x = np.linspace(-3, 3, 100)\n",
    "err = np.random.randn(100)\n",
    "def f(x):\n",
    "    return x**3 + 2*x**2 - 3*x + 2\n",
    "y = f(x) + err\n",
    "def function(w):\n",
    "    return sum(abs(w[0] * x**3 + w[1]*x**2 + w[2]*x + w[3] - y))\n",
    "w = minimize(function, [0,0,0,0]).x"
   ]
  },
  {
   "cell_type": "code",
   "execution_count": 161,
   "metadata": {
    "collapsed": false
   },
   "outputs": [
    {
     "data": {
      "image/png": "[encoded data removed]",
      "text/plain": [
       "<matplotlib.figure.Figure at 0x1178d70d0>"
      ]
     },
     "metadata": {},
     "output_type": "display_data"
    }
   ],
   "source": [
    "plt.plot(x, y, '.', color = 'blue')\n",
    "recovered_y = w[0] * x ** 3 + w[1] * x ** 2 + w[2] * x + w[3]\n",
    "plt.plot(x, recovered_y, color = 'r')\n",
    "plt.axhline(recovered_y[argrelextrema(recovered_y, np.greater)], color = 'darkcyan')\n",
    "plt.axhline(recovered_y[argrelextrema(recovered_y, np.less)], color = 'darkcyan')\n",
    "plt.show()"
   ]
  },
  {
   "cell_type": "markdown",
   "metadata": {},
   "source": [
    "# Pandas + Scikit-learn"
   ]
  },
  {
   "cell_type": "code",
   "execution_count": null,
   "metadata": {
    "collapsed": true
   },
   "outputs": [],
   "source": []
  }
 ],
 "metadata": {
  "kernelspec": {
   "display_name": "Python 2",
   "language": "python",
   "name": "python2"
  },
  "language_info": {
   "codemirror_mode": {
    "name": "ipython",
    "version": 2
   },
   "file_extension": ".py",
   "mimetype": "text/x-python",
   "name": "python",
   "nbconvert_exporter": "python",
   "pygments_lexer": "ipython2",
   "version": "2.7.11"
  }
 },
 "nbformat": 4,
 "nbformat_minor": 0
}
